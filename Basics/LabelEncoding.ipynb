{
 "cells": [
  {
   "cell_type": "markdown",
   "id": "7de25bd6-128c-4bd7-bcdf-ddd304b260e0",
   "metadata": {},
   "source": [
    "# 1. Label Encoder "
   ]
  },
  {
   "cell_type": "code",
   "execution_count": 2,
   "id": "4f3e0662-5f8b-4ff6-a36e-5c90a3abcd80",
   "metadata": {},
   "outputs": [],
   "source": [
    "classes = ['ClassA','ClassB','ClassC','ClassD']\n",
    "instances = ['ClassA','ClassB','ClassC','ClassD','ClassA','ClassB','ClassC','ClassD','ClassA','ClassB']"
   ]
  },
  {
   "cell_type": "code",
   "execution_count": 8,
   "id": "dbab8fdb-a7cd-470d-84f5-a09a4fd752b7",
   "metadata": {},
   "outputs": [
    {
     "name": "stdout",
     "output_type": "stream",
     "text": [
      "Encoded labels: [0, 1, 2, 3, 0, 1, 2, 3, 0, 1]\n"
     ]
    }
   ],
   "source": [
    "label_to_int = {label: index for index, label in enumerate(classes)}\n",
    "encoded_labels = [label_to_int[label] for label in instances]\n",
    "\n",
    "print ('Encoded labels:',encoded_labels)"
   ]
  },
  {
   "cell_type": "code",
   "execution_count": 10,
   "id": "cf9c4df9-f07f-4574-a8ef-5ae97322d4e1",
   "metadata": {},
   "outputs": [
    {
     "name": "stdout",
     "output_type": "stream",
     "text": [
      "Encoded labels: [0, 1, 2, 3, 0, 1, 2, 3, 0, 1]\n",
      "Decoded labels: ['ClassA', 'ClassB', 'ClassC', 'ClassD', 'ClassA', 'ClassB', 'ClassC', 'ClassD', 'ClassA', 'ClassB']\n"
     ]
    }
   ],
   "source": [
    "int_to_label = {index: label for label , index in label_to_int.items()}\n",
    "decoded_labels = [int_to_label[index] for index in  encoded_labels]\n",
    "\n",
    "print('Encoded labels:',encoded_labels)\n",
    "print('Decoded labels:',decoded_labels)"
   ]
  },
  {
   "cell_type": "markdown",
   "id": "3b7a43e5-6431-4933-9210-4d03a0f2d1f8",
   "metadata": {},
   "source": [
    "# Sklearn - Label Encoder"
   ]
  },
  {
   "cell_type": "code",
   "execution_count": 13,
   "id": "0d5c9c60-63f2-43db-b23a-3bf9542f6026",
   "metadata": {},
   "outputs": [],
   "source": [
    "from sklearn.preprocessing import LabelEncoder"
   ]
  },
  {
   "cell_type": "code",
   "execution_count": 19,
   "id": "cb638e33-5b18-40e5-96e1-5fad6bfa2c92",
   "metadata": {},
   "outputs": [
    {
     "name": "stdout",
     "output_type": "stream",
     "text": [
      "Encoded labels: [0 1 2 3 0 1 2 3 0 1]\n"
     ]
    }
   ],
   "source": [
    "label_encoder = LabelEncoder()\n",
    "encoded_labels = label_encoder.fit_transform(instances)\n",
    "\n",
    "print ('Encoded labels:', encoded_labels)"
   ]
  },
  {
   "cell_type": "code",
   "execution_count": 25,
   "id": "8c81a831-150c-42c8-9778-90b541d3d576",
   "metadata": {},
   "outputs": [
    {
     "name": "stdout",
     "output_type": "stream",
     "text": [
      "Original labels: ['ClassA' 'ClassB' 'ClassC' 'ClassD' 'ClassA' 'ClassB' 'ClassC' 'ClassD'\n",
      " 'ClassA' 'ClassB']\n"
     ]
    }
   ],
   "source": [
    "original_labels = label_encoder.inverse_transform(encoded_labels)\n",
    "print ('Original labels:',original_labels)"
   ]
  },
  {
   "cell_type": "code",
   "execution_count": null,
   "id": "253aea2f-db24-4737-942d-79605668c586",
   "metadata": {},
   "outputs": [],
   "source": []
  }
 ],
 "metadata": {
  "kernelspec": {
   "display_name": "Python 3 (ipykernel)",
   "language": "python",
   "name": "python3"
  },
  "language_info": {
   "codemirror_mode": {
    "name": "ipython",
    "version": 3
   },
   "file_extension": ".py",
   "mimetype": "text/x-python",
   "name": "python",
   "nbconvert_exporter": "python",
   "pygments_lexer": "ipython3",
   "version": "3.12.4"
  }
 },
 "nbformat": 4,
 "nbformat_minor": 5
}
