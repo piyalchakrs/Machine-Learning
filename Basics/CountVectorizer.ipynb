{
 "cells": [
  {
   "cell_type": "code",
   "execution_count": 1,
   "id": "2abbebf5-d16f-4ea8-8c7f-d5223abd3bb6",
   "metadata": {},
   "outputs": [],
   "source": [
    "# used in data preprocessing for meaningful sentences"
   ]
  },
  {
   "cell_type": "code",
   "execution_count": 2,
   "id": "ca3e6efc-90d2-4553-b217-478fe42c0a9e",
   "metadata": {},
   "outputs": [],
   "source": [
    "from sklearn.feature_extraction.text import CountVectorizer"
   ]
  },
  {
   "cell_type": "code",
   "execution_count": 9,
   "id": "5f8e62d6-5c2a-472a-aac2-44e21b99d1d8",
   "metadata": {},
   "outputs": [],
   "source": [
    "dataset = {'hey welcome to the study mart',\n",
    "           'hey I am piyal',\n",
    "           'i like data science',\n",
    "           'please describe myself'}"
   ]
  },
  {
   "cell_type": "code",
   "execution_count": 10,
   "id": "1552b227-67c9-49f0-ab23-c9c81ced5eff",
   "metadata": {},
   "outputs": [],
   "source": [
    "cv = CountVectorizer()\n",
    "x = cv.fit_transform(dataset)"
   ]
  },
  {
   "cell_type": "code",
   "execution_count": 13,
   "id": "210c9e8f-70e6-42a4-a3ae-4578c9d6762c",
   "metadata": {},
   "outputs": [
    {
     "data": {
      "text/plain": [
       "array(['am', 'data', 'describe', 'hey', 'like', 'mart', 'myself', 'piyal',\n",
       "       'please', 'science', 'study', 'the', 'to', 'welcome'], dtype=object)"
      ]
     },
     "execution_count": 13,
     "metadata": {},
     "output_type": "execute_result"
    }
   ],
   "source": [
    "cv.get_feature_names_out()"
   ]
  },
  {
   "cell_type": "code",
   "execution_count": 14,
   "id": "43fd924b-faf9-41f1-8076-35e7ef1ea54f",
   "metadata": {},
   "outputs": [
    {
     "data": {
      "text/plain": [
       "array([[0, 0, 0, 1, 0, 1, 0, 0, 0, 0, 1, 1, 1, 1],\n",
       "       [0, 1, 0, 0, 1, 0, 0, 0, 0, 1, 0, 0, 0, 0],\n",
       "       [1, 0, 0, 1, 0, 0, 0, 1, 0, 0, 0, 0, 0, 0],\n",
       "       [0, 0, 1, 0, 0, 0, 1, 0, 1, 0, 0, 0, 0, 0]], dtype=int64)"
      ]
     },
     "execution_count": 14,
     "metadata": {},
     "output_type": "execute_result"
    }
   ],
   "source": [
    "x.toarray()"
   ]
  },
  {
   "cell_type": "code",
   "execution_count": null,
   "id": "36f40d31-2281-4539-aa45-be3f7f01cc51",
   "metadata": {},
   "outputs": [],
   "source": []
  }
 ],
 "metadata": {
  "kernelspec": {
   "display_name": "Python 3 (ipykernel)",
   "language": "python",
   "name": "python3"
  },
  "language_info": {
   "codemirror_mode": {
    "name": "ipython",
    "version": 3
   },
   "file_extension": ".py",
   "mimetype": "text/x-python",
   "name": "python",
   "nbconvert_exporter": "python",
   "pygments_lexer": "ipython3",
   "version": "3.12.7"
  }
 },
 "nbformat": 4,
 "nbformat_minor": 5
}
