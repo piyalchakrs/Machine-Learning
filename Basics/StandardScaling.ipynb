{
 "cells": [
  {
   "cell_type": "code",
   "execution_count": 1,
   "id": "4f205fa4-92a8-47c9-85ba-c070f1b1ed56",
   "metadata": {},
   "outputs": [],
   "source": [
    "import pandas as pd"
   ]
  },
  {
   "cell_type": "code",
   "execution_count": 3,
   "id": "b06dbe20-329b-4c1e-b657-b01ede241cbc",
   "metadata": {},
   "outputs": [
    {
     "data": {
      "text/html": [
       "<div>\n",
       "<style scoped>\n",
       "    .dataframe tbody tr th:only-of-type {\n",
       "        vertical-align: middle;\n",
       "    }\n",
       "\n",
       "    .dataframe tbody tr th {\n",
       "        vertical-align: top;\n",
       "    }\n",
       "\n",
       "    .dataframe thead th {\n",
       "        text-align: right;\n",
       "    }\n",
       "</style>\n",
       "<table border=\"1\" class=\"dataframe\">\n",
       "  <thead>\n",
       "    <tr style=\"text-align: right;\">\n",
       "      <th></th>\n",
       "      <th>Feature1</th>\n",
       "      <th>Feature2</th>\n",
       "    </tr>\n",
       "  </thead>\n",
       "  <tbody>\n",
       "    <tr>\n",
       "      <th>0</th>\n",
       "      <td>1</td>\n",
       "      <td>6</td>\n",
       "    </tr>\n",
       "    <tr>\n",
       "      <th>1</th>\n",
       "      <td>20</td>\n",
       "      <td>7</td>\n",
       "    </tr>\n",
       "    <tr>\n",
       "      <th>2</th>\n",
       "      <td>3</td>\n",
       "      <td>18</td>\n",
       "    </tr>\n",
       "    <tr>\n",
       "      <th>3</th>\n",
       "      <td>40</td>\n",
       "      <td>19</td>\n",
       "    </tr>\n",
       "    <tr>\n",
       "      <th>4</th>\n",
       "      <td>5</td>\n",
       "      <td>10</td>\n",
       "    </tr>\n",
       "  </tbody>\n",
       "</table>\n",
       "</div>"
      ],
      "text/plain": [
       "   Feature1  Feature2\n",
       "0         1         6\n",
       "1        20         7\n",
       "2         3        18\n",
       "3        40        19\n",
       "4         5        10"
      ]
     },
     "execution_count": 3,
     "metadata": {},
     "output_type": "execute_result"
    }
   ],
   "source": [
    "data = {\n",
    "    'Feature1': [1,20,3,40,5],\n",
    "    'Feature2': [6,7,18,19,10]\n",
    "}\n",
    "df = pd.DataFrame(data)\n",
    "df.head()"
   ]
  },
  {
   "cell_type": "code",
   "execution_count": 28,
   "id": "16ce023a-f5a1-47e1-b71e-e58d2e4a4ed4",
   "metadata": {},
   "outputs": [],
   "source": [
    "def standardize_data(data):\n",
    "    mean = data.mean()\n",
    "    std_dev = data.std(ddof=0) # delta degree of freedom n-1\n",
    "    standardize_data_raw = (data-mean)/std_dev\n",
    "    return standardize_data_raw"
   ]
  },
  {
   "cell_type": "code",
   "execution_count": 30,
   "id": "0a468ea9-69e6-4af7-a4aa-b35ca9ecfb14",
   "metadata": {},
   "outputs": [],
   "source": [
    "standardize_df_raw = df.apply(standardize_data)"
   ]
  },
  {
   "cell_type": "code",
   "execution_count": 32,
   "id": "43a7bec2-4259-4ec4-a50a-d19c101918e3",
   "metadata": {},
   "outputs": [
    {
     "name": "stdout",
     "output_type": "stream",
     "text": [
      "Original DataFrame:\n",
      "   Feature1  Feature2\n",
      "0         1         6\n",
      "1        20         7\n",
      "2         3        18\n",
      "3        40        19\n",
      "4         5        10\n",
      "\n",
      "Standardize DataFrame: \n",
      "   Feature1  Feature2\n",
      "0 -0.869803 -1.095445\n",
      "1  0.421311 -0.912871\n",
      "2 -0.733896  1.095445\n",
      "3  1.780378  1.278019\n",
      "4 -0.597989 -0.365148\n"
     ]
    }
   ],
   "source": [
    "print('Original DataFrame:')\n",
    "print(df)\n",
    "print('\\nStandardize DataFrame: ')\n",
    "print(standardize_df_raw)"
   ]
  },
  {
   "cell_type": "code",
   "execution_count": 34,
   "id": "47a54239-90f1-4f63-9c2c-145658b26daf",
   "metadata": {},
   "outputs": [
    {
     "data": {
      "text/html": [
       "<div>\n",
       "<style scoped>\n",
       "    .dataframe tbody tr th:only-of-type {\n",
       "        vertical-align: middle;\n",
       "    }\n",
       "\n",
       "    .dataframe tbody tr th {\n",
       "        vertical-align: top;\n",
       "    }\n",
       "\n",
       "    .dataframe thead th {\n",
       "        text-align: right;\n",
       "    }\n",
       "</style>\n",
       "<table border=\"1\" class=\"dataframe\">\n",
       "  <thead>\n",
       "    <tr style=\"text-align: right;\">\n",
       "      <th></th>\n",
       "      <th>Feature1</th>\n",
       "      <th>Feature2</th>\n",
       "    </tr>\n",
       "  </thead>\n",
       "  <tbody>\n",
       "    <tr>\n",
       "      <th>0</th>\n",
       "      <td>-0.869803</td>\n",
       "      <td>-1.095445</td>\n",
       "    </tr>\n",
       "    <tr>\n",
       "      <th>1</th>\n",
       "      <td>0.421311</td>\n",
       "      <td>-0.912871</td>\n",
       "    </tr>\n",
       "    <tr>\n",
       "      <th>2</th>\n",
       "      <td>-0.733896</td>\n",
       "      <td>1.095445</td>\n",
       "    </tr>\n",
       "    <tr>\n",
       "      <th>3</th>\n",
       "      <td>1.780378</td>\n",
       "      <td>1.278019</td>\n",
       "    </tr>\n",
       "    <tr>\n",
       "      <th>4</th>\n",
       "      <td>-0.597989</td>\n",
       "      <td>-0.365148</td>\n",
       "    </tr>\n",
       "  </tbody>\n",
       "</table>\n",
       "</div>"
      ],
      "text/plain": [
       "   Feature1  Feature2\n",
       "0 -0.869803 -1.095445\n",
       "1  0.421311 -0.912871\n",
       "2 -0.733896  1.095445\n",
       "3  1.780378  1.278019\n",
       "4 -0.597989 -0.365148"
      ]
     },
     "execution_count": 34,
     "metadata": {},
     "output_type": "execute_result"
    }
   ],
   "source": [
    "standardize_df_raw.head()"
   ]
  },
  {
   "cell_type": "markdown",
   "id": "acca66aa-6c62-4df2-9850-667e4ef221ff",
   "metadata": {},
   "source": [
    "# using Sklearn"
   ]
  },
  {
   "cell_type": "code",
   "execution_count": 37,
   "id": "c586e3cc-3a6b-49be-a3dc-cc85bc14a75a",
   "metadata": {},
   "outputs": [],
   "source": [
    "from sklearn.preprocessing import StandardScaler"
   ]
  },
  {
   "cell_type": "code",
   "execution_count": 39,
   "id": "c527fc15-157e-48b0-8bd7-8580c08cc739",
   "metadata": {},
   "outputs": [],
   "source": [
    "scaler = StandardScaler()"
   ]
  },
  {
   "cell_type": "code",
   "execution_count": 41,
   "id": "fb8133f7-57f1-47ed-9673-96237aeda8e5",
   "metadata": {},
   "outputs": [],
   "source": [
    "standardized_data = scaler.fit_transform(df)\n",
    "standardized_df = pd.DataFrame(standardized_data, columns=df.columns)"
   ]
  },
  {
   "cell_type": "code",
   "execution_count": 43,
   "id": "491975fc-3267-4833-a3da-19c9dd408ece",
   "metadata": {},
   "outputs": [
    {
     "name": "stdout",
     "output_type": "stream",
     "text": [
      "Original DataFrame:\n",
      "   Feature1  Feature2\n",
      "0         1         6\n",
      "1        20         7\n",
      "2         3        18\n",
      "3        40        19\n",
      "4         5        10\n",
      "\n",
      "Standardize DataFrame: raw code\n",
      "   Feature1  Feature2\n",
      "0 -0.869803 -1.095445\n",
      "1  0.421311 -0.912871\n",
      "2 -0.733896  1.095445\n",
      "3  1.780378  1.278019\n",
      "4 -0.597989 -0.365148\n",
      "\n",
      "Standardize DataFrame: sklearn\n",
      "   Feature1  Feature2\n",
      "0 -0.869803 -1.095445\n",
      "1  0.421311 -0.912871\n",
      "2 -0.733896  1.095445\n",
      "3  1.780378  1.278019\n",
      "4 -0.597989 -0.365148\n"
     ]
    }
   ],
   "source": [
    "print('Original DataFrame:')\n",
    "print(df)\n",
    "print('\\nStandardize DataFrame: raw code')\n",
    "print(standardize_df_raw)\n",
    "print('\\nStandardize DataFrame: sklearn')\n",
    "print(standardized_df )"
   ]
  },
  {
   "cell_type": "code",
   "execution_count": null,
   "id": "a3a24c6e-afaa-456f-bf00-47e9a4d2586e",
   "metadata": {},
   "outputs": [],
   "source": []
  }
 ],
 "metadata": {
  "kernelspec": {
   "display_name": "Python 3 (ipykernel)",
   "language": "python",
   "name": "python3"
  },
  "language_info": {
   "codemirror_mode": {
    "name": "ipython",
    "version": 3
   },
   "file_extension": ".py",
   "mimetype": "text/x-python",
   "name": "python",
   "nbconvert_exporter": "python",
   "pygments_lexer": "ipython3",
   "version": "3.12.4"
  }
 },
 "nbformat": 4,
 "nbformat_minor": 5
}
